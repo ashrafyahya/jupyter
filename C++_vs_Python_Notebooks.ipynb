{
  "metadata": {
    "language_info": {
      "codemirror_mode": {
        "name": "python",
        "version": 3
      },
      "file_extension": ".py",
      "mimetype": "text/x-python",
      "name": "python",
      "nbconvert_exporter": "python",
      "pygments_lexer": "ipython3",
      "version": "3.8"
    },
    "kernelspec": {
      "name": "python",
      "display_name": "Python (Pyodide)",
      "language": "python"
    }
  },
  "nbformat_minor": 4,
  "nbformat": 4,
  "cells": [
    {
      "cell_type": "markdown",
      "source": "## Hier sind ein Paar Vergleichsbeispiele zwischen C++ und Python!\n### In Python gibt's keine Main-Funktion. Im folgenden ist ein Beispiel dazu:\n### -Ausgabe in C++ vs. Python\n#### 1- C++ Teil:\n```cpp\n#include <iostream>  \n\nusing namespace std;      \n    \nint main() {  \n   \n    cout << \"Hello world!\";  \n   \n    return 0;  \n    \n}\n```\n\n#### 2- Python Teil:",
      "metadata": {}
    },
    {
      "cell_type": "code",
      "source": "print(\"Hello world!\")",
      "metadata": {
        "trusted": true
      },
      "execution_count": 32,
      "outputs": [
        {
          "name": "stdout",
          "text": "Hello world!\n",
          "output_type": "stream"
        }
      ]
    },
    {
      "cell_type": "markdown",
      "source": "##### Ja ,genau so ist es einfach!  \n##### Wie Sie bemerkt haben, gibt es in Python keine Semikolons am Ende jeder Anweisung wie in C++, C oder auch in Java. Aber es schadet nicht, wenn man sie schreibt.\n\n### Eingabe in C++ vs. Python\n#### 1- C++ Teil:\n```cpp\n#include <iostream>  \n\nusing namespace std;      \n    \nint main() {  \n   \n    cout << \"Please enter a number!\"<<endl;\n    int number;\n    cin>> numer;\n    cout<<number<<endl;\n   \n    return 0;  \n    \n}\n```\n#### 2- Python Teil:  \nIn Python ist der Eingabe immer als String, daher benutzt man int() für eine Zahleingabe.",
      "metadata": {}
    },
    {
      "cell_type": "code",
      "source": "number= int(input(\"Gib eine Zahl ein:\\t\"))",
      "metadata": {
        "trusted": true
      },
      "execution_count": 33,
      "outputs": [
        {
          "ename": "<class 'TypeError'>",
          "evalue": "int() argument must be a string, a bytes-like object or a real number, not 'PyodideFuture'",
          "traceback": [
            "\u001b[0;31m---------------------------------------------------------------------------\u001b[0m",
            "\u001b[0;31mTypeError\u001b[0m                                 Traceback (most recent call last)",
            "Cell \u001b[0;32mIn[33], line 1\u001b[0m\n\u001b[0;32m----> 1\u001b[0m number\u001b[38;5;241m=\u001b[39m \u001b[38;5;28;43mint\u001b[39;49m\u001b[43m(\u001b[49m\u001b[38;5;28;43minput\u001b[39;49m\u001b[43m(\u001b[49m\u001b[38;5;124;43m\"\u001b[39;49m\u001b[38;5;124;43mGib eine Zahl ein:\u001b[39;49m\u001b[38;5;130;43;01m\\t\u001b[39;49;00m\u001b[38;5;124;43m\"\u001b[39;49m\u001b[43m)\u001b[49m\u001b[43m)\u001b[49m\n",
            "\u001b[0;31mTypeError\u001b[0m: int() argument must be a string, a bytes-like object or a real number, not 'PyodideFuture'"
          ],
          "output_type": "error"
        }
      ]
    },
    {
      "cell_type": "code",
      "source": "print(f\"Die eingegebene Zahl ist {zahl}!\")",
      "metadata": {
        "trusted": true
      },
      "execution_count": 34,
      "outputs": [
        {
          "name": "stdout",
          "text": "Die eingegebene Zahl ist <PyodideFuture finished result='3'>!\n",
          "output_type": "stream"
        }
      ]
    },
    {
      "cell_type": "markdown",
      "source": "### String-Eingabe\n#### 1- Teil C++\n```cpp\n#include <iostream>  \n\nusing namespace std;      \n    \nint main() {  \n   string str_input\n    cout << \"Please enter a string!\"<<endl;\";\n    cin>>str_input\n    cout<<\"die Eingegebene String ist: \"<<str_input<<endl;\n   \n    return 0;  \n    \n}\n```\n#### 2- Teil Python",
      "metadata": {}
    },
    {
      "cell_type": "code",
      "source": "str_input= input(\"Please enter a string!\\n\")",
      "metadata": {
        "trusted": true
      },
      "execution_count": 35,
      "outputs": [
        {
          "output_type": "stream",
          "name": "stdin",
          "text": "Please enter a string!\n 2\n"
        }
      ]
    },
    {
      "cell_type": "code",
      "source": "print(\"Die eingegebene String ist: \")\nprint(str_input)",
      "metadata": {
        "trusted": true
      },
      "execution_count": 43,
      "outputs": [
        {
          "name": "stdout",
          "text": "Die eingegebene String ist: \n<PyodideFuture finished result='2'>\n",
          "output_type": "stream"
        }
      ]
    },
    {
      "cell_type": "markdown",
      "source": "##### Es gibt in Python sozusagen f-format für die Ausgabe. Dies ist einfacher und lesbarer.  \nZ.B. das obige Beispiel kann so geschrieben werden:",
      "metadata": {}
    },
    {
      "cell_type": "code",
      "source": "print(f\"Die eingegebene String ist: {str_input}!\\n\")",
      "metadata": {
        "trusted": true
      },
      "execution_count": 44,
      "outputs": [
        {
          "name": "stdout",
          "text": "Die eingegebene String ist: <PyodideFuture finished result='2'>!\n\n",
          "output_type": "stream"
        }
      ]
    },
    {
      "cell_type": "markdown",
      "source": "### Variablendiklaration\n#### Im Gegensatz zu C++ gibt es in Python keine Variablendiklaration.\n\n#### 1- Teil C++\n```cpp\n#include <iostream>  \n\nusing namespace std;      \n    \nint main() {  \n   \n    string variable1= \"Hello\";\n    float variable2= 3.14\n    int variable3= 3;   \n    return 0;  \n}\n```\n\n#### 2-Teil Python",
      "metadata": {}
    },
    {
      "cell_type": "code",
      "source": "variable1= \"Hello\"\nvariable2= 3.14\nvariable3= 3",
      "metadata": {
        "trusted": true
      },
      "execution_count": 38,
      "outputs": []
    },
    {
      "cell_type": "markdown",
      "source": "### Einrückung  \nIn C++ begint ein Block mit einer Geschweifte Auf-Klammer { und endet mit geschwefter Zu-Klammer }  \nIn Python braucht man die geschweifte Klammer nicht mehr. Die Einrückung in Python geht aber durch Leerzeichen. Man begint z.B. eine Funktion mit `:` statt `{}` dann geht man eine Zeile runter und ein Leerzeich nach rechts, so dass die Anweisungen der Funktion untern rechts vom Funktionsname. Im folgenden ist ein Beispiel dazu:  \n#### 1- Teil C++\n```cpp\n#include <iostream>  \nusing namespace std;  \nvoid print_func(void){\n    cout<<\"Print functon is working!\"<<endl;\n}\nint main() {  \n    print_func();\n    return 0;  \n}\n```\n#### 2- Teil Python",
      "metadata": {}
    },
    {
      "cell_type": "code",
      "source": "def print_func():\n    print(\"print_func is working\\n\")\n    \nprint_func()",
      "metadata": {
        "trusted": true
      },
      "execution_count": 39,
      "outputs": [
        {
          "name": "stdout",
          "text": "print_func is working\n\n",
          "output_type": "stream"
        }
      ]
    },
    {
      "cell_type": "markdown",
      "source": "### Kommentare  \nIn C++ benutzt man `//` in Python aber `#`\n#### 1- Teil C++\n\n```cpp\n#include <iostream>  \n\nusing namespace std;      \nint main() {  \n    // das ist ein Kommentart in C++\n    return 0;  \n}\n```\n### 2- Teil Python\n",
      "metadata": {}
    },
    {
      "cell_type": "code",
      "source": "# Das hier ist ein Kommentar in Python",
      "metadata": {
        "trusted": true
      },
      "execution_count": 40,
      "outputs": []
    },
    {
      "cell_type": "markdown",
      "source": "### For-Schleife  \n#### 1- Teil C++\n\n```cpp\n#include <iostream>  \n\nusing namespace std;      \n    \nint main() {  \n    for(int i=1; i>=10;i++){\n    cout<<i<<endl;\n    };   \n    return 0;  \n    \n}\n```\n#### 2- Teil Python",
      "metadata": {}
    },
    {
      "cell_type": "code",
      "source": "for i in range(1,11):\n    print(i)",
      "metadata": {
        "trusted": true
      },
      "execution_count": 47,
      "outputs": [
        {
          "name": "stdout",
          "text": "1\n2\n3\n4\n5\n6\n7\n8\n9\n10\n",
          "output_type": "stream"
        }
      ]
    },
    {
      "cell_type": "markdown",
      "source": "### 3- Teil C++ mit Array  \n```cpp\n#include <iostream>  \n\nusing namespace std;      \n    \nint main() {  \n   int myArray={1, 2, 3, 4, 5};\n    for(int i=1; i>=10;i++){\n    cout<<myArray[i]<<endl;\n    }; \n    return 0;  \n}\n```\n### 4- Teil Python",
      "metadata": {}
    },
    {
      "cell_type": "code",
      "source": "myArray={1, 2, 3, 4, 5};\nfor i in myArray:\n    print(i)",
      "metadata": {
        "trusted": true
      },
      "execution_count": 42,
      "outputs": [
        {
          "name": "stdout",
          "text": "1\n2\n3\n4\n5\n",
          "output_type": "stream"
        }
      ]
    }
  ]
}