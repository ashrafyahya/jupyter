{
  "cells": [
    {
      "cell_type": "markdown",
      "metadata": {},
      "source": [
        "# Verzeichnis\n",
        "\n",
        "1. [Ausgabe](#Ausgabe)\n",
        "2. [Eingabe](#Eingabe)\n",
        "3. [String-Eingabe](#String-Eingabe)\n",
        "4. [Variablendiklaration](#Variablendiklaration)\n",
        "5. [Einrückung](#Einrückung)\n",
        "6. [Kommentare](#Kommentare)\n",
        "7. [For-Schleife](#For-Schleife)\n",
        "8. [Max-Funktion](#Max-Funktion)\n",
        "9. [Min-Funktion](#Min-Funktion)\n",
        "10. [Swap-Funktion](#Swap-Funktion)\n",
        "11. [Funktionen](#Funktionen)\n",
        "12. [Klassen](#Klassen)"
      ]
    },
    {
      "cell_type": "markdown",
      "metadata": {},
      "source": [
        "# C++ vs. Python Beispiele\n",
        "### In Python gibt's keine `Main`-Funktion. Das können Sie in den folgenden Beispiele bemerken!\n",
        "# Ausgabe\n",
        "#### 1- Teil C++:\n",
        "```cpp\n",
        "#include <iostream>  \n",
        "using namespace std;      \n",
        "    \n",
        "int main() {  \n",
        "    cout << \"Hello world!\";  \n",
        "    return 0;  \n",
        "}\n",
        "```\n",
        "\n",
        "#### 2- Teil Python:"
      ]
    },
    {
      "cell_type": "code",
      "execution_count": 9,
      "metadata": {
        "trusted": true
      },
      "outputs": [
        {
          "name": "stdout",
          "output_type": "stream",
          "text": [
            "Hello world!\n"
          ]
        }
      ],
      "source": [
        "print(\"Hello world!\")"
      ]
    },
    {
      "cell_type": "markdown",
      "metadata": {},
      "source": [
        "##### Ja ,genau so ist es einfach!  \n",
        "##### Wie Sie bemerkt haben, gibt es in Python keine Semikolon am Ende jeder Anweisung wie in C++, C oder auch in Java. Aber es schadet nicht, wenn man sie schreibt.\n",
        "\n",
        "# Eingabe\n",
        "#### 1- Teil C++:\n",
        "```cpp\n",
        "#include <iostream>  \n",
        "using namespace std;\n",
        "\n",
        "int main() {  \n",
        "    cout << \"Please enter a number!\"<<endl;\n",
        "    int number;\n",
        "    cin>> numer;\n",
        "    cout<<number<<endl;\n",
        "    return 0;  \n",
        "}\n",
        "```\n",
        "#### 2- Teil Python:  \n",
        "In Python ist die Eingabe immer als String, daher benutzt man int() für eine Zahleingabe."
      ]
    },
    {
      "cell_type": "code",
      "execution_count": null,
      "metadata": {
        "tags": [],
        "trusted": true
      },
      "outputs": [],
      "source": [
        "number = int(input(\"Gib eine Zahl ein: \"))"
      ]
    },
    {
      "cell_type": "code",
      "execution_count": null,
      "metadata": {
        "trusted": true
      },
      "outputs": [],
      "source": [
        "print(number)"
      ]
    },
    {
      "cell_type": "markdown",
      "metadata": {},
      "source": [
        "# String-Eingabe\n",
        "#### 1- Teil C++\n",
        "```cpp\n",
        "#include <iostream>  \n",
        "using namespace std;      \n",
        "    \n",
        "int main() {  \n",
        "   string str_input\n",
        "    cout << \"Please enter a string!\"<<endl;\";\n",
        "    cin>>str_input\n",
        "    cout<<\"die Eingegebene String ist: \"<<str_input<<endl;\n",
        "    return 0;  \n",
        "}\n",
        "```\n",
        "#### 2- Teil Python"
      ]
    },
    {
      "cell_type": "code",
      "execution_count": 12,
      "metadata": {
        "trusted": true
      },
      "outputs": [
        {
          "name": "stdout",
          "output_type": "stream",
          "text": [
            "Please enter a string!\n",
            " Ash\n"
          ]
        }
      ],
      "source": [
        "str_input= input(\"Please enter a string!\\n\")"
      ]
    },
    {
      "cell_type": "code",
      "execution_count": 25,
      "metadata": {
        "trusted": true
      },
      "outputs": [
        {
          "name": "stdout",
          "output_type": "stream",
          "text": [
            "Die eingegebene String ist: \n",
            "<PyodideFuture finished result='Ash'>\n"
          ]
        }
      ],
      "source": [
        "print(\"Die eingegebene String ist: \")\n",
        "print(str_input)"
      ]
    },
    {
      "cell_type": "markdown",
      "metadata": {},
      "source": [
        "##### Es gibt in Python sozusagen f-format für die Ausgabe. Dies ist einfacher und lesbarer.  \n",
        "Z.B. das obige Beispiel kann so geschrieben werden:"
      ]
    },
    {
      "cell_type": "code",
      "execution_count": 14,
      "metadata": {
        "trusted": true
      },
      "outputs": [
        {
          "name": "stdout",
          "output_type": "stream",
          "text": [
            "Die eingegebene String ist: <PyodideFuture pending cb=[WebLoop._decrement_in_progress()]>!\n",
            "\n"
          ]
        }
      ],
      "source": [
        "print(f\"Die eingegebene String ist: {str_input}!\\n\")"
      ]
    },
    {
      "cell_type": "markdown",
      "metadata": {},
      "source": [
        "# Variablendiklaration\n",
        "#### Im Gegensatz zu C++ gibt es in Python keine Variablendiklaration.\n",
        "\n",
        "#### 1- Teil C++\n",
        "```cpp\n",
        "#include <iostream>  \n",
        "using namespace std;      \n",
        "    \n",
        "int main() {  \n",
        "    string variable1= \"Hello\";\n",
        "    float variable2= 3.14\n",
        "    int variable3= 3;   \n",
        "    return 0;  \n",
        "}\n",
        "```\n",
        "#### 2- Teil Python"
      ]
    },
    {
      "cell_type": "code",
      "execution_count": 15,
      "metadata": {
        "trusted": true
      },
      "outputs": [],
      "source": [
        "variable1= \"Hello\"\n",
        "variable2= 3.14\n",
        "variable3= 3"
      ]
    },
    {
      "cell_type": "markdown",
      "metadata": {},
      "source": [
        "# Einrückung  \n",
        "In C++ begint ein Block mit einer Geschweifte Klammer `{` und endet mit einer geschwefter Klammer `}`  \n",
        "Die geschwiften Klammern braucht man in Python nicht mehr, denn sie werden durch die Einrückung ersetzt. Die Einrückung. Man begint z.B. eine Funktion mit `:` statt `{}` dann geht man eine Zeile runter und ein Leerzeich nach rechts, so dass die Anweisungen der Funktion unten rechts vom Funktionsname. Im folgenden ist ein Beispiel dazu:  \n",
        "#### 1- Teil C++\n",
        "```cpp\n",
        "#include <iostream>  \n",
        "using namespace std;  \n",
        "\n",
        "void print_func(void){\n",
        "    cout<<\"Print functon is working!\"<<endl;\n",
        "}\n",
        "int main() {  \n",
        "    print_func();\n",
        "    return 0;  \n",
        "}\n",
        "```\n",
        "#### 2- Teil Python"
      ]
    },
    {
      "cell_type": "code",
      "execution_count": 16,
      "metadata": {
        "trusted": true
      },
      "outputs": [
        {
          "name": "stdout",
          "output_type": "stream",
          "text": [
            "print_func is working\n",
            "\n"
          ]
        }
      ],
      "source": [
        "def print_func():\n",
        "    print(\"print_func is working\\n\")\n",
        "    \n",
        "print_func()"
      ]
    },
    {
      "cell_type": "markdown",
      "metadata": {},
      "source": [
        "# Kommentare  \n",
        "In C++ benutzt man `//` in Python aber `#`\n",
        "#### 1- Teil C++\n",
        "\n",
        "```cpp\n",
        "#include <iostream>  \n",
        "using namespace std; \n",
        "\n",
        "int main() {  \n",
        "    // das ist ein Kommentart in C++\n",
        "    return 0;  \n",
        "}\n",
        "```\n",
        "#### 2- Teil Python\n"
      ]
    },
    {
      "cell_type": "code",
      "execution_count": 17,
      "metadata": {
        "trusted": true
      },
      "outputs": [],
      "source": [
        "# Das hier ist ein Kommentar in Python"
      ]
    },
    {
      "cell_type": "markdown",
      "metadata": {},
      "source": [
        "# For-Schleife  \n",
        "#### 1- Teil C++\n",
        "\n",
        "```cpp\n",
        "#include <iostream>  \n",
        "using namespace std;      \n",
        "    \n",
        "int main() {  \n",
        "    for(int i=1; i>=10;i++){\n",
        "    cout<<i<<endl;\n",
        "    };   \n",
        "    return 0;  \n",
        "}\n",
        "```\n",
        "#### 2- Teil Python"
      ]
    },
    {
      "cell_type": "code",
      "execution_count": 18,
      "metadata": {
        "trusted": true
      },
      "outputs": [
        {
          "name": "stdout",
          "output_type": "stream",
          "text": [
            "1\n",
            "2\n",
            "3\n",
            "4\n",
            "5\n",
            "6\n",
            "7\n",
            "8\n",
            "9\n",
            "10\n"
          ]
        }
      ],
      "source": [
        "for i in range(1,11):\n",
        "    print(i)"
      ]
    },
    {
      "cell_type": "markdown",
      "metadata": {},
      "source": [
        "#### 3- Teil C++ mit Array  \n",
        "```cpp\n",
        "#include <iostream>  \n",
        "using namespace std;      \n",
        "    \n",
        "int main() {  \n",
        "   int myArray={1, 2, 3, 4, 5};\n",
        "    for(int i=1; i>=10;i++){\n",
        "    cout<<myArray[i]<<endl;\n",
        "    }; \n",
        "    return 0;  \n",
        "}\n",
        "```\n",
        "#### 4- Teil Python"
      ]
    },
    {
      "cell_type": "code",
      "execution_count": 19,
      "metadata": {
        "trusted": true
      },
      "outputs": [
        {
          "name": "stdout",
          "output_type": "stream",
          "text": [
            "1\n",
            "2\n",
            "3\n",
            "4\n",
            "5\n"
          ]
        }
      ],
      "source": [
        "myArray={1, 2, 3, 4, 5};\n",
        "for i in myArray:\n",
        "    print(i)"
      ]
    },
    {
      "cell_type": "markdown",
      "metadata": {},
      "source": [
        "# Max-Funktion\n",
        "### Zum Finden des maximalen Werts\n",
        "#### 1- Teil C++\n",
        "```cpp\n",
        "#include <iostream>\n",
        "using namespace std;\n",
        "\n",
        "int main() {\n",
        "    int myArray[5] = {12, 56, 34, 89, 17};\n",
        "    int maxValue = myArray[0];\n",
        "    for (int i = 1; i < 5; ++i) {\n",
        "        if (myArray[i] > maxValue) {\n",
        "            maxValue = myArray[i];\n",
        "        }\n",
        "    }\n",
        "    cout << \"Der Maximalwert im Array ist: \" << maxValue << endl;\n",
        "    return 0;\n",
        "}\n",
        "```\n",
        "#### 2- Teil Python"
      ]
    },
    {
      "cell_type": "code",
      "execution_count": 20,
      "metadata": {
        "trusted": true
      },
      "outputs": [
        {
          "name": "stdout",
          "output_type": "stream",
          "text": [
            "Der Maximalwert im Array ist: 89\n"
          ]
        }
      ],
      "source": [
        "myArray = [12, 56, 34, 89, 17]\n",
        "maxValue = max(myArray)\n",
        "print(\"Der Maximalwert im Array ist:\", maxValue)"
      ]
    },
    {
      "cell_type": "markdown",
      "metadata": {},
      "source": [
        "# Min-Funktion\n",
        "### Zum Finden des minimalen Werts\n",
        "#### 1- Teil C++\n",
        "```cpp\n",
        "#include <iostream>\n",
        "using namespace std;\n",
        "\n",
        "int main() {\n",
        "    int myArray[5] = {12, 56, 34, 89, 17};\n",
        "    int minValue = myArray[0];\n",
        "    for (int i = 1; i < 5; ++i) {\n",
        "        if (myArray[i] < minValue) {\n",
        "            minValue = myArray[i];\n",
        "        }\n",
        "    }\n",
        "    cout << \"Der Minimalwert im Array ist: \" << minValue << endl;\n",
        "    return 0;\n",
        "}\n",
        "```\n",
        "#### 2- Teil Python"
      ]
    },
    {
      "cell_type": "code",
      "execution_count": 21,
      "metadata": {
        "trusted": true
      },
      "outputs": [
        {
          "name": "stdout",
          "output_type": "stream",
          "text": [
            "Der Minimalwert im Array ist: 12\n"
          ]
        }
      ],
      "source": [
        "myArray = [12, 56, 34, 89, 17]\n",
        "minValue = min(myArray)\n",
        "print(\"Der Minimalwert im Array ist:\", minValue)"
      ]
    },
    {
      "cell_type": "markdown",
      "metadata": {},
      "source": [
        "# Swap-Funktion\n",
        "#### 1- Teil C++\n",
        "```cpp\n",
        "#include <iostream>\n",
        "using namespace std;\n",
        "\n",
        "void swap(int &a, int &b) {\n",
        "    int temp = a;\n",
        "    a = b;\n",
        "    b = temp; \n",
        "}\n",
        "int main() {\n",
        "    int num1 = 10;\n",
        "    int num2 = 20;\n",
        "    cout << \"Vor dem Tausch: num1 = \" << num1 << \", num2 = \" << num2 << endl;\n",
        "    swap(num1, num2);\n",
        "    cout << \"Nach dem Tausch: num1 = \" << num1 << \", num2 = \" << num2 << endl;\n",
        "    return 0;\n",
        "}\n",
        "\n",
        "```\n",
        "#### 2- Teil Python"
      ]
    },
    {
      "cell_type": "code",
      "execution_count": 22,
      "metadata": {
        "trusted": true
      },
      "outputs": [
        {
          "name": "stdout",
          "output_type": "stream",
          "text": [
            "Vor dem Tausch: num1 = 10 , num2 = 20\n",
            "Nach dem Tausch: num1 = 20 , num2 = 10\n"
          ]
        }
      ],
      "source": [
        "num1 = 10\n",
        "num2 = 20\n",
        "print(\"Vor dem Tausch: num1 =\", num1, \", num2 =\", num2)\n",
        "num1, num2 = num2, num1\n",
        "print(\"Nach dem Tausch: num1 =\", num1, \", num2 =\", num2)"
      ]
    },
    {
      "cell_type": "markdown",
      "metadata": {},
      "source": [
        "# Funktionen\n",
        "#### 1- Teil C++\n",
        "```cpp\n",
        "#include <iostream>\n",
        "using namespace std;\n",
        "\n",
        "int addNumbers(int a, int b) {\n",
        "    int sum = a + b;\n",
        "    return sum;\n",
        "}\n",
        "\n",
        "int main() {\n",
        "    int num1 = 5, num2 = 10;\n",
        "    int result = addNumbers(num1, num2);\n",
        "    cout << \"Die Summe von \" << num1 << \" und \" << num2 << \" ist: \" << result << endl;\n",
        "    return 0;\n",
        "}\n",
        "```\n",
        "#### 2- Teil Python"
      ]
    },
    {
      "cell_type": "code",
      "execution_count": 23,
      "metadata": {
        "trusted": true
      },
      "outputs": [
        {
          "name": "stdout",
          "output_type": "stream",
          "text": [
            "Die Summe von 5 und 10 ist: 15\n"
          ]
        }
      ],
      "source": [
        "def addNumbers(a, b): # Definition der Funktion\n",
        "    sum = a + b\n",
        "    return sum\n",
        "\n",
        "# Hauptprogramm\n",
        "num1 = 5\n",
        "num2 = 10\n",
        "result = addNumbers(num1, num2)\n",
        "print(\"Die Summe von\", num1, \"und\", num2, \"ist:\", result)"
      ]
    },
    {
      "cell_type": "markdown",
      "metadata": {},
      "source": [
        "# Klassen\n",
        "#### 1- Teil C++\n",
        "```cpp\n",
        "#include <iostream>\n",
        "using namespace std;\n",
        "\n",
        "class Shape {\n",
        "public:\n",
        "    Shape() {// Konstruktor\n",
        "        cout << \"Shape-Konstruktor aufgerufen.\" << endl;}\n",
        "    \n",
        "    virtual ~Shape() { // Destruktor\n",
        "        cout << \"Shape-Destruktor aufgerufen.\" << endl;}\n",
        "\n",
        "    virtual double area() const { // Virtuelle Funktion zur Berechnung der Fläche\n",
        "        return 0.0; }\n",
        "};\n",
        "\n",
        "int main() {\n",
        "    Shape shape; // Erstellen eines Objekts der Basisklasse\n",
        "    double area = shape.area();    // Aufruf der virtuellen Funktion area()\n",
        "    cout << \"Die Fläche der Shape beträgt: \" << area << endl;\n",
        "    return 0;\n",
        "}\n",
        "```\n",
        "#### 2- Teil Python"
      ]
    },
    {
      "cell_type": "code",
      "execution_count": 24,
      "metadata": {
        "trusted": true
      },
      "outputs": [
        {
          "name": "stdout",
          "output_type": "stream",
          "text": [
            "Shape-Konstruktor aufgerufen.\n",
            "Die Fläche der Shape beträgt: 0.0\n"
          ]
        }
      ],
      "source": [
        "class Shape:\n",
        "    def __init__(self):\n",
        "        print(\"Shape-Konstruktor aufgerufen.\")\n",
        "        \n",
        "    def area(self):\n",
        "        return 0.0\n",
        "shape = Shape() # Erstellen eines Objekts der Basisklasse\n",
        "area = shape.area() # Aufruf der Funktion area()\n",
        "print(\"Die Fläche der Shape beträgt:\", area)"
      ]
    }
  ],
  "metadata": {
    "kernelspec": {
      "display_name": "Python (Pyodide)",
      "language": "python",
      "name": "python"
    },
    "language_info": {
      "codemirror_mode": {
        "name": "python",
        "version": 3
      },
      "file_extension": ".py",
      "mimetype": "text/x-python",
      "name": "python",
      "nbconvert_exporter": "python",
      "pygments_lexer": "ipython3",
      "version": "3.8"
    }
  },
  "nbformat": 4,
  "nbformat_minor": 4
}
