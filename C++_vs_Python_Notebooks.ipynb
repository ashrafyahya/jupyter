{
  "metadata": {
    "language_info": {
      "codemirror_mode": {
        "name": "python",
        "version": 3
      },
      "file_extension": ".py",
      "mimetype": "text/x-python",
      "name": "python",
      "nbconvert_exporter": "python",
      "pygments_lexer": "ipython3",
      "version": "3.8"
    },
    "kernelspec": {
      "name": "python",
      "display_name": "Python (Pyodide)",
      "language": "python"
    }
  },
  "nbformat_minor": 4,
  "nbformat": 4,
  "cells": [
    {
      "cell_type": "markdown",
      "source": "# Verzeichnis\n\n1. [Ausgabe](#Ausgabe)\n2. [Eingabe](#Eingabe)\n3. [String-Eingabe](#String-Eingabe)\n4. [Variablendiklaration](#Variablendiklaration)\n5. [Einrückung](#Einrückung)\n6. [Kommentare](#Kommentare)\n7. [For-Schleife](#For-Schleife)\n8. [Max-Funktion](#Max-Funktion)\n9. [Min-Funktion](#Min-Funktion)\n10. [Swap-Funktion](#Kommentare)\n10. [Klassen](#Klassen)",
      "metadata": {}
    },
    {
      "cell_type": "markdown",
      "source": "# C++ vs. Python Beispiele\n### In Python gibt's keine `Main`-Funktion. Das können Sie in den folgenden Beispiele bemerken!\n# Ausgabe\n#### 1- C++ Teil:\n```cpp\n#include <iostream>  \n\nusing namespace std;      \n    \nint main() {  \n   \n    cout << \"Hello world!\";  \n   \n    return 0;  \n    \n}\n```\n\n#### 2- Python Teil:",
      "metadata": {}
    },
    {
      "cell_type": "code",
      "source": "print(\"Hello world!\")",
      "metadata": {
        "trusted": true
      },
      "execution_count": 21,
      "outputs": [
        {
          "name": "stdout",
          "text": "Hello world!\n",
          "output_type": "stream"
        }
      ]
    },
    {
      "cell_type": "markdown",
      "source": "##### Ja ,genau so ist es einfach!  \n##### Wie Sie bemerkt haben, gibt es in Python keine Semikolons am Ende jeder Anweisung wie in C++, C oder auch in Java. Aber es schadet nicht, wenn man sie schreibt.\n\n# Eingabe\n#### 1- C++ Teil:\n```cpp\n#include <iostream>  \n\nusing namespace std;      \n    \nint main() {  \n   \n    cout << \"Please enter a number!\"<<endl;\n    int number;\n    cin>> numer;\n    cout<<number<<endl;\n   \n    return 0;  \n    \n}\n```\n#### 2- Python Teil:  \nIn Python ist der Eingabe immer als String, daher benutzt man int() für eine Zahleingabe.",
      "metadata": {}
    },
    {
      "cell_type": "code",
      "source": "number = int(input(\"Gib eine Zahl ein: \"))",
      "metadata": {
        "tags": [],
        "trusted": true
      },
      "execution_count": null,
      "outputs": []
    },
    {
      "cell_type": "code",
      "source": "print(number)",
      "metadata": {
        "trusted": true
      },
      "execution_count": null,
      "outputs": []
    },
    {
      "cell_type": "markdown",
      "source": "# String-Eingabe\n#### 1- Teil C++\n```cpp\n#include <iostream>  \n\nusing namespace std;      \n    \nint main() {  \n   string str_input\n    cout << \"Please enter a string!\"<<endl;\";\n    cin>>str_input\n    cout<<\"die Eingegebene String ist: \"<<str_input<<endl;\n   \n    return 0;  \n    \n}\n```\n#### 2- Teil Python",
      "metadata": {}
    },
    {
      "cell_type": "code",
      "source": "str_input= input(\"Please enter a string!\\n\")",
      "metadata": {
        "trusted": true
      },
      "execution_count": 24,
      "outputs": [
        {
          "output_type": "stream",
          "name": "stdin",
          "text": "Please enter a string!\n F\n"
        }
      ]
    },
    {
      "cell_type": "code",
      "source": "print(\"Die eingegebene String ist: \")\nprint(str_input)",
      "metadata": {
        "trusted": true
      },
      "execution_count": 32,
      "outputs": [
        {
          "name": "stdout",
          "text": "Die eingegebene String ist: \n<PyodideFuture finished result='F'>\n",
          "output_type": "stream"
        }
      ]
    },
    {
      "cell_type": "markdown",
      "source": "##### Es gibt in Python sozusagen f-format für die Ausgabe. Dies ist einfacher und lesbarer.  \nZ.B. das obige Beispiel kann so geschrieben werden:",
      "metadata": {}
    },
    {
      "cell_type": "code",
      "source": "print(f\"Die eingegebene String ist: {str_input}!\\n\")",
      "metadata": {
        "trusted": true
      },
      "execution_count": 26,
      "outputs": [
        {
          "name": "stdout",
          "text": "Die eingegebene String ist: <PyodideFuture pending cb=[WebLoop._decrement_in_progress()]>!\n\n",
          "output_type": "stream"
        }
      ]
    },
    {
      "cell_type": "markdown",
      "source": "# Variablendiklaration\n#### Im Gegensatz zu C++ gibt es in Python keine Variablendiklaration.\n\n#### 1- Teil C++\n```cpp\n#include <iostream>  \n\nusing namespace std;      \n    \nint main() {  \n   \n    string variable1= \"Hello\";\n    float variable2= 3.14\n    int variable3= 3;   \n    return 0;  \n}\n```\n\n#### 2-Teil Python",
      "metadata": {}
    },
    {
      "cell_type": "code",
      "source": "variable1= \"Hello\"\nvariable2= 3.14\nvariable3= 3",
      "metadata": {
        "trusted": true
      },
      "execution_count": 27,
      "outputs": []
    },
    {
      "cell_type": "markdown",
      "source": "# Einrückung  \nIn C++ begint ein Block mit einer Geschweifte Auf-Klammer { und endet mit geschwefter Zu-Klammer }  \nIn Python braucht man die geschweifte Klammer nicht mehr. Die Einrückung in Python geht aber durch Leerzeichen. Man begint z.B. eine Funktion mit `:` statt `{}` dann geht man eine Zeile runter und ein Leerzeich nach rechts, so dass die Anweisungen der Funktion untern rechts vom Funktionsname. Im folgenden ist ein Beispiel dazu:  \n#### 1- Teil C++\n```cpp\n#include <iostream>  \nusing namespace std;  \nvoid print_func(void){\n    cout<<\"Print functon is working!\"<<endl;\n}\nint main() {  \n    print_func();\n    return 0;  \n}\n```\n#### 2- Teil Python",
      "metadata": {}
    },
    {
      "cell_type": "code",
      "source": "def print_func():\n    print(\"print_func is working\\n\")\n    \nprint_func()",
      "metadata": {
        "trusted": true
      },
      "execution_count": 28,
      "outputs": [
        {
          "name": "stdout",
          "text": "print_func is working\n\n",
          "output_type": "stream"
        }
      ]
    },
    {
      "cell_type": "markdown",
      "source": "# Kommentare  \nIn C++ benutzt man `//` in Python aber `#`\n#### 1- Teil C++\n\n```cpp\n#include <iostream>  \n\nusing namespace std;      \nint main() {  \n    // das ist ein Kommentart in C++\n    return 0;  \n}\n```\n#### 2- Teil Python\n",
      "metadata": {}
    },
    {
      "cell_type": "code",
      "source": "# Das hier ist ein Kommentar in Python",
      "metadata": {
        "trusted": true
      },
      "execution_count": 29,
      "outputs": []
    },
    {
      "cell_type": "markdown",
      "source": "# For-Schleife  \n#### 1- Teil C++\n\n```cpp\n#include <iostream>  \n\nusing namespace std;      \n    \nint main() {  \n    for(int i=1; i>=10;i++){\n    cout<<i<<endl;\n    };   \n    return 0;  \n    \n}\n```\n#### 2- Teil Python",
      "metadata": {}
    },
    {
      "cell_type": "code",
      "source": "for i in range(1,11):\n    print(i)",
      "metadata": {
        "trusted": true
      },
      "execution_count": 30,
      "outputs": [
        {
          "name": "stdout",
          "text": "1\n2\n3\n4\n5\n6\n7\n8\n9\n10\n",
          "output_type": "stream"
        }
      ]
    },
    {
      "cell_type": "markdown",
      "source": "#### 3- Teil C++ mit Array  \n```cpp\n#include <iostream>  \n\nusing namespace std;      \n    \nint main() {  \n   int myArray={1, 2, 3, 4, 5};\n    for(int i=1; i>=10;i++){\n    cout<<myArray[i]<<endl;\n    }; \n    return 0;  \n}\n```\n#### 4- Teil Python",
      "metadata": {}
    },
    {
      "cell_type": "code",
      "source": "myArray={1, 2, 3, 4, 5};\nfor i in myArray:\n    print(i)",
      "metadata": {
        "trusted": true
      },
      "execution_count": 31,
      "outputs": [
        {
          "name": "stdout",
          "text": "1\n2\n3\n4\n5\n",
          "output_type": "stream"
        }
      ]
    },
    {
      "cell_type": "markdown",
      "source": "# Max-Funktion\n### Zum Finden des maximalen Werts\n#### 1-Teil C++\n```cpp\n#include <iostream>\nusing namespace std;\nint main() {\n    int myArray[5] = {12, 56, 34, 89, 17};\n    int maxValue = myArray[0];\n    for (int i = 1; i < 5; ++i) {\n        if (myArray[i] > maxValue) {\n            maxValue = myArray[i];\n        }\n    }\n    cout << \"Der Maximalwert im Array ist: \" << maxValue << endl;\n    return 0;\n}\n```\n#### 2-Teil Python",
      "metadata": {}
    },
    {
      "cell_type": "code",
      "source": "myArray = [12, 56, 34, 89, 17]\nmaxValue = max(myArray)\nprint(\"Der Maximalwert im Array ist:\", maxValue)",
      "metadata": {
        "trusted": true
      },
      "execution_count": 1,
      "outputs": [
        {
          "name": "stdout",
          "text": "Der Maximalwert im Array ist: 89\n",
          "output_type": "stream"
        }
      ]
    },
    {
      "cell_type": "markdown",
      "source": "# Min-Funktion\n### Zum Finden des minimalen Werts\n#### 1- Teil C++\n```cpp\n#include <iostream>\nusing namespace std;\nint main() {\n    int myArray[5] = {12, 56, 34, 89, 17};\n    int minValue = myArray[0];\n    for (int i = 1; i < 5; ++i) {\n        if (myArray[i] < minValue) {\n            minValue = myArray[i];\n        }\n    }\n    cout << \"Der Minimalwert im Array ist: \" << minValue << endl;\n    return 0;\n}\n```\n#### 2- Teil Python",
      "metadata": {}
    },
    {
      "cell_type": "code",
      "source": "myArray = [12, 56, 34, 89, 17]\nminValue = min(myArray)\nprint(\"Der Minimalwert im Array ist: \", minValue)",
      "metadata": {
        "trusted": true
      },
      "execution_count": 4,
      "outputs": [
        {
          "name": "stdout",
          "text": "Der Minimalwert im Array ist:  12\n",
          "output_type": "stream"
        }
      ]
    },
    {
      "cell_type": "markdown",
      "source": "# Swap-Funktion\n#### 1- Teil C++\n```cpp\n#include <iostream>\nvoid swap(int &a, int &b) {\n    int temp = a;\n    a = b;\n    b = temp; }\nint main() {\n    int num1 = 10;\n    int num2 = 20;\n    std::cout << \"Vor dem Tausch: num1 = \" << num1 << \", num2 = \" << num2 << std::endl;\n    swap(num1, num2);\n    std::cout << \"Nach dem Tausch: num1 = \" << num1 << \", num2 = \" << num2 << std::endl;\n    return 0;\n}\n\n```\n#### 2- Teil Python",
      "metadata": {}
    },
    {
      "cell_type": "code",
      "source": "num1 = 10\nnum2 = 20\nprint(\"Vor dem Tausch: num1 =\", num1, \", num2 =\", num2)\nnum1, num2 = num2, num1\nprint(\"Nach dem Tausch: num1 =\", num1, \", num2 =\", num2)",
      "metadata": {
        "trusted": true
      },
      "execution_count": 3,
      "outputs": [
        {
          "name": "stdout",
          "text": "Vor dem Tausch: num1 = 10 , num2 = 20\nNach dem Tausch: num1 = 20 , num2 = 10\n",
          "output_type": "stream"
        }
      ]
    },
    {
      "cell_type": "markdown",
      "source": "# Klassen\n#### 1- Teil C++\n```cpp\n#include <iostream>\nusing namespace std;\nclass Shape {\npublic:\n    Shape() {// Konstruktor\n        cout << \"Shape-Konstruktor aufgerufen.\" << endl;}\n    \n    virtual ~Shape() { // Destruktor\n        cout << \"Shape-Destruktor aufgerufen.\" << endl;}\n\n    virtual double area() const { // Virtuelle Funktion zur Berechnung der Fläche\n        return 0.0; }\n};\n\nint main() {\n    Shape shape; // Erstellen eines Objekts der Basisklasse\n    double area = shape.area();    // Aufruf der virtuellen Funktion area()\n    cout << \"Die Fläche der Shape beträgt: \" << area << endl;\n    return 0;\n}\n```\n#### 2- Teil Python",
      "metadata": {}
    },
    {
      "cell_type": "code",
      "source": "class Shape:\n    def __init__(self):\n        print(\"Shape-Konstruktor aufgerufen.\")\n        \n    def area(self):\n        return 0.0\nshape = Shape() # Erstellen eines Objekts der Basisklasse\narea = shape.area() # Aufruf der Funktion area()\nprint(\"Die Fläche der Shape beträgt:\", area)",
      "metadata": {
        "trusted": true
      },
      "execution_count": 5,
      "outputs": [
        {
          "name": "stdout",
          "text": "Shape-Konstruktor aufgerufen.\nDie Fläche der Shape beträgt: 0.0\n",
          "output_type": "stream"
        }
      ]
    }
  ]
}